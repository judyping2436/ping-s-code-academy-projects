{
 "cells": [
  {
   "cell_type": "markdown",
   "metadata": {},
   "source": [
    "# U.S. Medical Insurance Costs"
   ]
  },
  {
   "cell_type": "code",
   "execution_count": 3,
   "metadata": {},
   "outputs": [],
   "source": [
    "import csv\n",
    "insurance_records = []\n",
    "with open('insurance.csv') as insurance_csv:\n",
    "    insurance_reader = csv.DictReader(insurance_csv, delimiter = ',')\n",
    "    \n",
    "    for i in insurance_reader:\n",
    "        insurance_records.append(i)\n",
    "#print(insurance_records)    "
   ]
  },
  {
   "cell_type": "markdown",
   "metadata": {},
   "source": [
    "1. Analyse Average Age:"
   ]
  },
  {
   "cell_type": "code",
   "execution_count": 5,
   "metadata": {},
   "outputs": [
    {
     "name": "stdout",
     "output_type": "stream",
     "text": [
      "The average age of our 1338 sample data is 39.21 years old.\n"
     ]
    }
   ],
   "source": [
    "total_age = 0\n",
    "for record in insurance_records:\n",
    "    total_age += int(record['age'])\n",
    "avg_age = round(total_age/len(insurance_records), 2)   \n",
    "print(\"The average age of our 1338 sample data is \" + str(avg_age) + ' years old.')"
   ]
  },
  {
   "cell_type": "markdown",
   "metadata": {},
   "source": [
    "1.1 Analyse Average Age of male vs female:"
   ]
  },
  {
   "cell_type": "code",
   "execution_count": 11,
   "metadata": {},
   "outputs": [
    {
     "name": "stdout",
     "output_type": "stream",
     "text": [
      "There are 1338 data samples in our analysis.\n",
      "The average age for male is 38.92 years old.\n",
      "The average age for female is 39.5 years old.\n"
     ]
    }
   ],
   "source": [
    "age_male = 0\n",
    "num_male = 0\n",
    "age_female = 0\n",
    "num_female = 0\n",
    "for record in insurance_records:\n",
    "    if record['sex'] == 'male':\n",
    "        num_male += 1\n",
    "        age_male += float(record['age'])\n",
    "    if record['sex'] == 'female':\n",
    "        num_female += 1\n",
    "        age_female += float(record['age'])\n",
    "avg_male_age = round(age_male/num_male, 2)    \n",
    "avg_female_age = round(age_female/num_female, 2) \n",
    "total_num = num_male + num_female\n",
    "\n",
    "print(\"There are \" + str(total_num) + \" data samples in our analysis.\")\n",
    "print(\"The average age for male is \" + str(avg_male_age) + ' years old.')\n",
    "print(\"The average age for female is \" + str(avg_female_age) + ' years old.')\n",
    "    "
   ]
  },
  {
   "cell_type": "markdown",
   "metadata": {},
   "source": [
    "The average insurance-policy holder's age for male and female is simliar, around 39 years old, is that the age when people start have children? \n",
    "see below for further analysis."
   ]
  },
  {
   "cell_type": "markdown",
   "metadata": {},
   "source": [
    "1.2 Percentage of male buying insurance vs female:"
   ]
  },
  {
   "cell_type": "code",
   "execution_count": 15,
   "metadata": {},
   "outputs": [
    {
     "name": "stdout",
     "output_type": "stream",
     "text": [
      "50.52 % of our 1338 insurers are male vs 49.48 % are female.\n"
     ]
    }
   ],
   "source": [
    "male_percent = round(num_male * 100/(num_male + num_female),2)\n",
    "female_percent = 100 - male_percent\n",
    "\n",
    "print(str(male_percent) + \" % of our 1338 insurers are male vs \" + str(female_percent) + \" % are female.\")"
   ]
  },
  {
   "cell_type": "markdown",
   "metadata": {},
   "source": [
    "Conclusion: male and female are of similar attitude towards purchaisng medical insurance."
   ]
  },
  {
   "cell_type": "markdown",
   "metadata": {},
   "source": [
    "2. Analyse where majority of individuals are from:"
   ]
  },
  {
   "cell_type": "code",
   "execution_count": 19,
   "metadata": {},
   "outputs": [
    {
     "name": "stdout",
     "output_type": "stream",
     "text": [
      "There are 324 people from northeast region out of 1338 of our insurance records.\n",
      "There are 364 people from southeast region out of 1338 of our insurance records.\n",
      "There are 325 people from northwest region out of 1338 of our insurance records.\n",
      "There are 325 people from southwest region out of 1338 of our insurance records.\n"
     ]
    }
   ],
   "source": [
    "num_northeast = 0\n",
    "num_southeast = 0\n",
    "num_northwest = 0 \n",
    "num_southwest = 0\n",
    "for record in insurance_records:\n",
    "    if record['region'] == 'northeast':\n",
    "        num_northeast += 1\n",
    "    if record['region'] == 'southeast':\n",
    "        num_southeast += 1\n",
    "    if record['region'] == 'northwest':\n",
    "        num_northwest += 1\n",
    "    if record['region'] == 'southwest':\n",
    "        num_southwest += 1\n",
    "        \n",
    "print('There are ' + str(num_northeast) + \" people from northeast region out of 1338 of our insurance records.\")    \n",
    "print('There are ' + str(num_southeast) + \" people from southeast region out of 1338 of our insurance records.\")        \n",
    "print('There are ' + str(num_northwest) + \" people from northwest region out of 1338 of our insurance records.\")        \n",
    "print('There are ' + str(num_southwest) + \" people from southwest region out of 1338 of our insurance records.\")        \n",
    "        "
   ]
  },
  {
   "cell_type": "markdown",
   "metadata": {},
   "source": [
    "Majority of poeple are from southeast region, but not by much.  We can say insurance-policy holders are faily evenly distributed across 4 corners of the United States."
   ]
  },
  {
   "cell_type": "markdown",
   "metadata": {},
   "source": [
    "3. Analyse cost between smokers and non-smokers:"
   ]
  },
  {
   "cell_type": "code",
   "execution_count": 22,
   "metadata": {},
   "outputs": [
    {
     "name": "stdout",
     "output_type": "stream",
     "text": [
      "The aerage medical insurance cost for a smoker is 32050.23 dollars.\n",
      "The aerage medical insurance cost for a non-smoker is 8434.27 dollars.\n",
      "The average medical insurance cost for a smoker is 23615.96 dollars more expensive than for a non-smoker's. \n"
     ]
    }
   ],
   "source": [
    "num_smoker = 0\n",
    "smoker_charges = 0\n",
    "num_non_smoker = 0\n",
    "non_smoker_charges = 0\n",
    "\n",
    "for record in insurance_records:\n",
    "    if record['smoker'] == 'yes':\n",
    "        num_smoker += 1\n",
    "        smoker_charges += float(record['charges'])\n",
    "    if record['smoker'] == 'no':\n",
    "        num_non_smoker += 1\n",
    "        non_smoker_charges += float(record['charges'])\n",
    "        \n",
    "avg_smoker_charges = round(smoker_charges/ num_smoker, 2)\n",
    "avg_non_smoker_charges = round(non_smoker_charges/ num_non_smoker, 2)\n",
    "diff_smoker_charges = avg_smoker_charges - avg_non_smoker_charges\n",
    "\n",
    "print('The aerage medical insurance cost for a smoker is ' + str(avg_smoker_charges) + \" dollars.\")\n",
    "print('The aerage medical insurance cost for a non-smoker is ' + str(avg_non_smoker_charges) + \" dollars.\")\n",
    "print('The average medical insurance cost for a smoker is ' + str(diff_smoker_charges) + \" dollars more expensive than for a non-smoker's. \")\n"
   ]
  },
  {
   "cell_type": "markdown",
   "metadata": {},
   "source": [
    "3.1 Analyse % of insurance-policy holders who are smokers:"
   ]
  },
  {
   "cell_type": "code",
   "execution_count": 24,
   "metadata": {},
   "outputs": [
    {
     "name": "stdout",
     "output_type": "stream",
     "text": [
      "Out of 1338 or our samples, 20.48 % are smokers.\n"
     ]
    }
   ],
   "source": [
    "smoke_percent = round(num_smoker*100/ total_num, 2)\n",
    "print(\"Out of 1338 or our samples, \" + str(smoke_percent) + \" % are smokers.\")"
   ]
  },
  {
   "cell_type": "markdown",
   "metadata": {},
   "source": [
    "Conclusion:  It looks like not many smokers take up the medical insurance policies, because cost is $23k more expensive. \"Stop\n",
    "Smoking\" campaing might be good for US medical Insurance companies, not only do some public good, but also  more people might take up the insurance policies."
   ]
  },
  {
   "cell_type": "markdown",
   "metadata": {},
   "source": [
    "4. Analyse average age of people who have at least one child:"
   ]
  },
  {
   "cell_type": "code",
   "execution_count": 25,
   "metadata": {},
   "outputs": [
    {
     "name": "stdout",
     "output_type": "stream",
     "text": [
      "The average age of people who have at least one child is 39.78 years old.\n"
     ]
    }
   ],
   "source": [
    "total_age_havekid = 0\n",
    "num_havekid = 0\n",
    "for record in insurance_records:\n",
    "    if int(record['children']) > 0:\n",
    "        num_havekid += 1\n",
    "        total_age_havekid += int(record['age'])\n",
    "        \n",
    "avg_age_havekid = round(total_age_havekid/num_havekid, 2)        \n",
    "\n",
    "print(\"The average age of people who have at least one child is \" + str(avg_age_havekid) + ' years old.')"
   ]
  },
  {
   "cell_type": "markdown",
   "metadata": {},
   "source": [
    "Conlcusion:  the age 39 conincides with our average insurance policy-holders' age.  Maybe people start purchasing insurance once they start to have children.  I advise that insurance companies should deliver a bunch of flowers and sign parents up at maternity ward in the hospital.  Especially women, when they are high on the hormones (and drugs), and husbands have nothing to do while waiting. "
   ]
  },
  {
   "cell_type": "code",
   "execution_count": null,
   "metadata": {},
   "outputs": [],
   "source": [
    "5. Analyse BMI between male and female, smoker and non-smoker:"
   ]
  },
  {
   "cell_type": "code",
   "execution_count": 27,
   "metadata": {},
   "outputs": [
    {
     "name": "stdout",
     "output_type": "stream",
     "text": [
      "Average BMI for male is 30.94.\n",
      "Average BMI for female is 30.38.\n"
     ]
    }
   ],
   "source": [
    "bmi_male = 0\n",
    "bmi_female = 0\n",
    "for record in insurance_records:\n",
    "    if record['sex'] == 'male':\n",
    "        bmi_male += float(record['bmi'])\n",
    "    if record['sex'] == 'female':\n",
    "        bmi_female += float(record['bmi'])\n",
    "       \n",
    "avg_bmi_male = round(bmi_male/num_male, 2)    \n",
    "avg_bmi_female = round(bmi_female/num_female, 2)\n",
    "print('Average BMI for male is ' + str(avg_bmi_male) + \".\")\n",
    "print('Average BMI for female is ' + str(avg_bmi_female) + \".\")"
   ]
  },
  {
   "cell_type": "markdown",
   "metadata": {},
   "source": [
    "Conclusion:  the average BMI for male is actually slightly higher than female, one would think the other way round.  It might show that average American male are getting more rounded around the belly, due to all these super-sized meals. "
   ]
  },
  {
   "cell_type": "code",
   "execution_count": 28,
   "metadata": {},
   "outputs": [
    {
     "name": "stdout",
     "output_type": "stream",
     "text": [
      "Average BMI for female smoker is 29.61 .\n",
      "Average BMI for female non-smoker is 30.54 .\n"
     ]
    }
   ],
   "source": [
    "female_smoker_bmi = 0\n",
    "female_smoker_num = 0\n",
    "female_non_smoker_bmi = 0\n",
    "female_non_smoker_num = 0\n",
    "for record in insurance_records:\n",
    "    if record['sex'] == 'female' and record['smoker'] == 'yes':\n",
    "        female_smoker_num += 1\n",
    "        female_smoker_bmi += float(record['bmi'])\n",
    "    if record['sex'] == 'female' and record['smoker'] == 'no':\n",
    "        female_non_smoker_num += 1\n",
    "        female_non_smoker_bmi += float(record['bmi'])\n",
    "        \n",
    "avg_female_smoker_bmi = round(female_smoker_bmi/female_smoker_num, 2)  \n",
    "avg_female_non_smoker_bmi = round(female_non_smoker_bmi/female_non_smoker_num, 2)\n",
    "\n",
    "print('Average BMI for female smoker is ' + str(avg_female_smoker_bmi) + ' .')\n",
    "print('Average BMI for female non-smoker is ' + str(avg_female_non_smoker_bmi) + ' .')"
   ]
  },
  {
   "cell_type": "markdown",
   "metadata": {},
   "source": [
    "Conlcusion: BMI for female smoker and non-smoker are similar, around 30.  So smoking makes people slim is a myth.  Busted. \n",
    "\n",
    "Smoking is the most influencial feature in insurance charges, as it is almost $23,000 more than non-smokers.  \n",
    "\n",
    "Data might include bias when a young fit man (eg 24, low bmi, no kids) but smokes, which would result in higher medical insurance cost.  Maybe our target clients are parents who have young children.  (Judy Ping McCormick, Melbourne 1st Dec 2020)"
   ]
  }
 ],
 "metadata": {
  "kernelspec": {
   "display_name": "Python 3",
   "language": "python",
   "name": "python3"
  },
  "language_info": {
   "codemirror_mode": {
    "name": "ipython",
    "version": 3
   },
   "file_extension": ".py",
   "mimetype": "text/x-python",
   "name": "python",
   "nbconvert_exporter": "python",
   "pygments_lexer": "ipython3",
   "version": "3.8.3"
  }
 },
 "nbformat": 4,
 "nbformat_minor": 4
}
